{
  "nbformat": 4,
  "nbformat_minor": 0,
  "metadata": {
    "colab": {
      "name": "Part3.ipynb",
      "provenance": [],
      "collapsed_sections": [],
      "machine_shape": "hm",
      "mount_file_id": "1pVtcaw9SNlVt9vfV1Ao5L6Ksp1-AVOJy",
      "authorship_tag": "ABX9TyMTNaxIVBIZ1eGrCMs63+bV",
      "include_colab_link": true
    },
    "kernelspec": {
      "name": "python3",
      "display_name": "Python 3"
    },
    "language_info": {
      "name": "python"
    },
    "widgets": {
      "application/vnd.jupyter.widget-state+json": {
        "d9e5c196169446409310f0f7535d1788": {
          "model_module": "@jupyter-widgets/controls",
          "model_name": "HBoxModel",
          "model_module_version": "1.5.0",
          "state": {
            "_view_name": "HBoxView",
            "_dom_classes": [],
            "_model_name": "HBoxModel",
            "_view_module": "@jupyter-widgets/controls",
            "_model_module_version": "1.5.0",
            "_view_count": null,
            "_view_module_version": "1.5.0",
            "box_style": "",
            "layout": "IPY_MODEL_d0edcab33ca2410db98cdb7a4e1e3128",
            "_model_module": "@jupyter-widgets/controls",
            "children": [
              "IPY_MODEL_109802299c3547ddbf47a331deef5548",
              "IPY_MODEL_3feee109dd844072906567630dc0e825",
              "IPY_MODEL_d0414729cdfb466ba4315d297beab4fd"
            ]
          }
        },
        "d0edcab33ca2410db98cdb7a4e1e3128": {
          "model_module": "@jupyter-widgets/base",
          "model_name": "LayoutModel",
          "model_module_version": "1.2.0",
          "state": {
            "_view_name": "LayoutView",
            "grid_template_rows": null,
            "right": null,
            "justify_content": null,
            "_view_module": "@jupyter-widgets/base",
            "overflow": null,
            "_model_module_version": "1.2.0",
            "_view_count": null,
            "flex_flow": null,
            "width": null,
            "min_width": null,
            "border": null,
            "align_items": null,
            "bottom": null,
            "_model_module": "@jupyter-widgets/base",
            "top": null,
            "grid_column": null,
            "overflow_y": null,
            "overflow_x": null,
            "grid_auto_flow": null,
            "grid_area": null,
            "grid_template_columns": null,
            "flex": null,
            "_model_name": "LayoutModel",
            "justify_items": null,
            "grid_row": null,
            "max_height": null,
            "align_content": null,
            "visibility": null,
            "align_self": null,
            "height": null,
            "min_height": null,
            "padding": null,
            "grid_auto_rows": null,
            "grid_gap": null,
            "max_width": null,
            "order": null,
            "_view_module_version": "1.2.0",
            "grid_template_areas": null,
            "object_position": null,
            "object_fit": null,
            "grid_auto_columns": null,
            "margin": null,
            "display": null,
            "left": null
          }
        },
        "109802299c3547ddbf47a331deef5548": {
          "model_module": "@jupyter-widgets/controls",
          "model_name": "HTMLModel",
          "model_module_version": "1.5.0",
          "state": {
            "_view_name": "HTMLView",
            "style": "IPY_MODEL_0a049d0358ad42c8aab4ab1595efc8c4",
            "_dom_classes": [],
            "description": "",
            "_model_name": "HTMLModel",
            "placeholder": "​",
            "_view_module": "@jupyter-widgets/controls",
            "_model_module_version": "1.5.0",
            "value": "100%",
            "_view_count": null,
            "_view_module_version": "1.5.0",
            "description_tooltip": null,
            "_model_module": "@jupyter-widgets/controls",
            "layout": "IPY_MODEL_ac3515e1f3114d36bd7b6fb5d8426d3b"
          }
        },
        "3feee109dd844072906567630dc0e825": {
          "model_module": "@jupyter-widgets/controls",
          "model_name": "FloatProgressModel",
          "model_module_version": "1.5.0",
          "state": {
            "_view_name": "ProgressView",
            "style": "IPY_MODEL_101f9a55c1c6452cb2d0c1a0b0bbb9e5",
            "_dom_classes": [],
            "description": "",
            "_model_name": "FloatProgressModel",
            "bar_style": "success",
            "max": 2,
            "_view_module": "@jupyter-widgets/controls",
            "_model_module_version": "1.5.0",
            "value": 2,
            "_view_count": null,
            "_view_module_version": "1.5.0",
            "orientation": "horizontal",
            "min": 0,
            "description_tooltip": null,
            "_model_module": "@jupyter-widgets/controls",
            "layout": "IPY_MODEL_395a0e6b87de4860a3e162683f63a546"
          }
        },
        "d0414729cdfb466ba4315d297beab4fd": {
          "model_module": "@jupyter-widgets/controls",
          "model_name": "HTMLModel",
          "model_module_version": "1.5.0",
          "state": {
            "_view_name": "HTMLView",
            "style": "IPY_MODEL_37019832e4604d4596712b3bcc84492e",
            "_dom_classes": [],
            "description": "",
            "_model_name": "HTMLModel",
            "placeholder": "​",
            "_view_module": "@jupyter-widgets/controls",
            "_model_module_version": "1.5.0",
            "value": " 2/2 [00:02&lt;00:00,  1.23s/it]",
            "_view_count": null,
            "_view_module_version": "1.5.0",
            "description_tooltip": null,
            "_model_module": "@jupyter-widgets/controls",
            "layout": "IPY_MODEL_0ec663da34814432b7a2c4dacff0773c"
          }
        },
        "0a049d0358ad42c8aab4ab1595efc8c4": {
          "model_module": "@jupyter-widgets/controls",
          "model_name": "DescriptionStyleModel",
          "model_module_version": "1.5.0",
          "state": {
            "_view_name": "StyleView",
            "_model_name": "DescriptionStyleModel",
            "description_width": "",
            "_view_module": "@jupyter-widgets/base",
            "_model_module_version": "1.5.0",
            "_view_count": null,
            "_view_module_version": "1.2.0",
            "_model_module": "@jupyter-widgets/controls"
          }
        },
        "ac3515e1f3114d36bd7b6fb5d8426d3b": {
          "model_module": "@jupyter-widgets/base",
          "model_name": "LayoutModel",
          "model_module_version": "1.2.0",
          "state": {
            "_view_name": "LayoutView",
            "grid_template_rows": null,
            "right": null,
            "justify_content": null,
            "_view_module": "@jupyter-widgets/base",
            "overflow": null,
            "_model_module_version": "1.2.0",
            "_view_count": null,
            "flex_flow": null,
            "width": null,
            "min_width": null,
            "border": null,
            "align_items": null,
            "bottom": null,
            "_model_module": "@jupyter-widgets/base",
            "top": null,
            "grid_column": null,
            "overflow_y": null,
            "overflow_x": null,
            "grid_auto_flow": null,
            "grid_area": null,
            "grid_template_columns": null,
            "flex": null,
            "_model_name": "LayoutModel",
            "justify_items": null,
            "grid_row": null,
            "max_height": null,
            "align_content": null,
            "visibility": null,
            "align_self": null,
            "height": null,
            "min_height": null,
            "padding": null,
            "grid_auto_rows": null,
            "grid_gap": null,
            "max_width": null,
            "order": null,
            "_view_module_version": "1.2.0",
            "grid_template_areas": null,
            "object_position": null,
            "object_fit": null,
            "grid_auto_columns": null,
            "margin": null,
            "display": null,
            "left": null
          }
        },
        "101f9a55c1c6452cb2d0c1a0b0bbb9e5": {
          "model_module": "@jupyter-widgets/controls",
          "model_name": "ProgressStyleModel",
          "model_module_version": "1.5.0",
          "state": {
            "_view_name": "StyleView",
            "_model_name": "ProgressStyleModel",
            "description_width": "",
            "_view_module": "@jupyter-widgets/base",
            "_model_module_version": "1.5.0",
            "_view_count": null,
            "_view_module_version": "1.2.0",
            "bar_color": null,
            "_model_module": "@jupyter-widgets/controls"
          }
        },
        "395a0e6b87de4860a3e162683f63a546": {
          "model_module": "@jupyter-widgets/base",
          "model_name": "LayoutModel",
          "model_module_version": "1.2.0",
          "state": {
            "_view_name": "LayoutView",
            "grid_template_rows": null,
            "right": null,
            "justify_content": null,
            "_view_module": "@jupyter-widgets/base",
            "overflow": null,
            "_model_module_version": "1.2.0",
            "_view_count": null,
            "flex_flow": null,
            "width": null,
            "min_width": null,
            "border": null,
            "align_items": null,
            "bottom": null,
            "_model_module": "@jupyter-widgets/base",
            "top": null,
            "grid_column": null,
            "overflow_y": null,
            "overflow_x": null,
            "grid_auto_flow": null,
            "grid_area": null,
            "grid_template_columns": null,
            "flex": null,
            "_model_name": "LayoutModel",
            "justify_items": null,
            "grid_row": null,
            "max_height": null,
            "align_content": null,
            "visibility": null,
            "align_self": null,
            "height": null,
            "min_height": null,
            "padding": null,
            "grid_auto_rows": null,
            "grid_gap": null,
            "max_width": null,
            "order": null,
            "_view_module_version": "1.2.0",
            "grid_template_areas": null,
            "object_position": null,
            "object_fit": null,
            "grid_auto_columns": null,
            "margin": null,
            "display": null,
            "left": null
          }
        },
        "37019832e4604d4596712b3bcc84492e": {
          "model_module": "@jupyter-widgets/controls",
          "model_name": "DescriptionStyleModel",
          "model_module_version": "1.5.0",
          "state": {
            "_view_name": "StyleView",
            "_model_name": "DescriptionStyleModel",
            "description_width": "",
            "_view_module": "@jupyter-widgets/base",
            "_model_module_version": "1.5.0",
            "_view_count": null,
            "_view_module_version": "1.2.0",
            "_model_module": "@jupyter-widgets/controls"
          }
        },
        "0ec663da34814432b7a2c4dacff0773c": {
          "model_module": "@jupyter-widgets/base",
          "model_name": "LayoutModel",
          "model_module_version": "1.2.0",
          "state": {
            "_view_name": "LayoutView",
            "grid_template_rows": null,
            "right": null,
            "justify_content": null,
            "_view_module": "@jupyter-widgets/base",
            "overflow": null,
            "_model_module_version": "1.2.0",
            "_view_count": null,
            "flex_flow": null,
            "width": null,
            "min_width": null,
            "border": null,
            "align_items": null,
            "bottom": null,
            "_model_module": "@jupyter-widgets/base",
            "top": null,
            "grid_column": null,
            "overflow_y": null,
            "overflow_x": null,
            "grid_auto_flow": null,
            "grid_area": null,
            "grid_template_columns": null,
            "flex": null,
            "_model_name": "LayoutModel",
            "justify_items": null,
            "grid_row": null,
            "max_height": null,
            "align_content": null,
            "visibility": null,
            "align_self": null,
            "height": null,
            "min_height": null,
            "padding": null,
            "grid_auto_rows": null,
            "grid_gap": null,
            "max_width": null,
            "order": null,
            "_view_module_version": "1.2.0",
            "grid_template_areas": null,
            "object_position": null,
            "object_fit": null,
            "grid_auto_columns": null,
            "margin": null,
            "display": null,
            "left": null
          }
        }
      }
    }
  },
  "cells": [
    {
      "cell_type": "markdown",
      "metadata": {
        "id": "view-in-github",
        "colab_type": "text"
      },
      "source": [
        "<a href=\"https://colab.research.google.com/github/sangar-si/LSTM-exploratory-amazon-dataset/blob/main/Part3.ipynb\" target=\"_parent\"><img src=\"https://colab.research.google.com/assets/colab-badge.svg\" alt=\"Open In Colab\"/></a>"
      ]
    },
    {
      "cell_type": "code",
      "source": [
        "%pip install huggingface\n",
        "%pip install datasets\n",
        "%pip install --upgrade gensim --user"
      ],
      "metadata": {
        "colab": {
          "base_uri": "https://localhost:8080/"
        },
        "id": "Vb5_oX-7Eyl0",
        "outputId": "70089b12-b59a-48d1-86d7-73d38fe7483e"
      },
      "execution_count": 3,
      "outputs": [
        {
          "output_type": "stream",
          "name": "stdout",
          "text": [
            "Requirement already satisfied: huggingface in /usr/local/lib/python3.7/dist-packages (0.0.1)\n",
            "Requirement already satisfied: datasets in /usr/local/lib/python3.7/dist-packages (1.18.1)\n",
            "Requirement already satisfied: huggingface-hub<1.0.0,>=0.1.0 in /usr/local/lib/python3.7/dist-packages (from datasets) (0.4.0)\n",
            "Requirement already satisfied: numpy>=1.17 in /usr/local/lib/python3.7/dist-packages (from datasets) (1.19.5)\n",
            "Requirement already satisfied: importlib-metadata in /usr/local/lib/python3.7/dist-packages (from datasets) (4.10.1)\n",
            "Requirement already satisfied: tqdm>=4.62.1 in /usr/local/lib/python3.7/dist-packages (from datasets) (4.62.3)\n",
            "Requirement already satisfied: packaging in /usr/local/lib/python3.7/dist-packages (from datasets) (21.3)\n",
            "Requirement already satisfied: pandas in /usr/local/lib/python3.7/dist-packages (from datasets) (1.1.5)\n",
            "Requirement already satisfied: pyarrow!=4.0.0,>=3.0.0 in /usr/local/lib/python3.7/dist-packages (from datasets) (3.0.0)\n",
            "Requirement already satisfied: fsspec[http]>=2021.05.0 in /usr/local/lib/python3.7/dist-packages (from datasets) (2022.1.0)\n",
            "Requirement already satisfied: aiohttp in /usr/local/lib/python3.7/dist-packages (from datasets) (3.8.1)\n",
            "Requirement already satisfied: xxhash in /usr/local/lib/python3.7/dist-packages (from datasets) (2.0.2)\n",
            "Requirement already satisfied: dill in /usr/local/lib/python3.7/dist-packages (from datasets) (0.3.4)\n",
            "Requirement already satisfied: multiprocess in /usr/local/lib/python3.7/dist-packages (from datasets) (0.70.12.2)\n",
            "Requirement already satisfied: requests>=2.19.0 in /usr/local/lib/python3.7/dist-packages (from datasets) (2.23.0)\n",
            "Requirement already satisfied: pyyaml in /usr/local/lib/python3.7/dist-packages (from huggingface-hub<1.0.0,>=0.1.0->datasets) (3.13)\n",
            "Requirement already satisfied: typing-extensions>=3.7.4.3 in /usr/local/lib/python3.7/dist-packages (from huggingface-hub<1.0.0,>=0.1.0->datasets) (3.10.0.2)\n",
            "Requirement already satisfied: filelock in /usr/local/lib/python3.7/dist-packages (from huggingface-hub<1.0.0,>=0.1.0->datasets) (3.4.2)\n",
            "Requirement already satisfied: pyparsing!=3.0.5,>=2.0.2 in /usr/local/lib/python3.7/dist-packages (from packaging->datasets) (3.0.7)\n",
            "Requirement already satisfied: certifi>=2017.4.17 in /usr/local/lib/python3.7/dist-packages (from requests>=2.19.0->datasets) (2021.10.8)\n",
            "Requirement already satisfied: idna<3,>=2.5 in /usr/local/lib/python3.7/dist-packages (from requests>=2.19.0->datasets) (2.10)\n",
            "Requirement already satisfied: urllib3!=1.25.0,!=1.25.1,<1.26,>=1.21.1 in /usr/local/lib/python3.7/dist-packages (from requests>=2.19.0->datasets) (1.24.3)\n",
            "Requirement already satisfied: chardet<4,>=3.0.2 in /usr/local/lib/python3.7/dist-packages (from requests>=2.19.0->datasets) (3.0.4)\n",
            "Requirement already satisfied: multidict<7.0,>=4.5 in /usr/local/lib/python3.7/dist-packages (from aiohttp->datasets) (6.0.2)\n",
            "Requirement already satisfied: yarl<2.0,>=1.0 in /usr/local/lib/python3.7/dist-packages (from aiohttp->datasets) (1.7.2)\n",
            "Requirement already satisfied: frozenlist>=1.1.1 in /usr/local/lib/python3.7/dist-packages (from aiohttp->datasets) (1.3.0)\n",
            "Requirement already satisfied: attrs>=17.3.0 in /usr/local/lib/python3.7/dist-packages (from aiohttp->datasets) (21.4.0)\n",
            "Requirement already satisfied: aiosignal>=1.1.2 in /usr/local/lib/python3.7/dist-packages (from aiohttp->datasets) (1.2.0)\n",
            "Requirement already satisfied: asynctest==0.13.0 in /usr/local/lib/python3.7/dist-packages (from aiohttp->datasets) (0.13.0)\n",
            "Requirement already satisfied: charset-normalizer<3.0,>=2.0 in /usr/local/lib/python3.7/dist-packages (from aiohttp->datasets) (2.0.10)\n",
            "Requirement already satisfied: async-timeout<5.0,>=4.0.0a3 in /usr/local/lib/python3.7/dist-packages (from aiohttp->datasets) (4.0.2)\n",
            "Requirement already satisfied: zipp>=0.5 in /usr/local/lib/python3.7/dist-packages (from importlib-metadata->datasets) (3.7.0)\n",
            "Requirement already satisfied: pytz>=2017.2 in /usr/local/lib/python3.7/dist-packages (from pandas->datasets) (2018.9)\n",
            "Requirement already satisfied: python-dateutil>=2.7.3 in /usr/local/lib/python3.7/dist-packages (from pandas->datasets) (2.8.2)\n",
            "Requirement already satisfied: six>=1.5 in /usr/local/lib/python3.7/dist-packages (from python-dateutil>=2.7.3->pandas->datasets) (1.15.0)\n",
            "Requirement already satisfied: gensim in /root/.local/lib/python3.7/site-packages (4.1.2)\n",
            "Requirement already satisfied: smart-open>=1.8.1 in /usr/local/lib/python3.7/dist-packages (from gensim) (5.2.1)\n",
            "Requirement already satisfied: scipy>=0.18.1 in /usr/local/lib/python3.7/dist-packages (from gensim) (1.4.1)\n",
            "Requirement already satisfied: numpy>=1.17.0 in /usr/local/lib/python3.7/dist-packages (from gensim) (1.19.5)\n"
          ]
        }
      ]
    },
    {
      "cell_type": "code",
      "source": [
        "# sudo apt-get install git-lfs\n",
        "# git lfs install\n",
        "# git clone https://huggingface.co/fse/word2vec-google-news-300"
      ],
      "metadata": {
        "id": "ohc0LszAcJV4"
      },
      "execution_count": 7,
      "outputs": []
    },
    {
      "cell_type": "code",
      "source": [
        "import glob\n",
        "import nltk\n",
        "import gensim\n",
        "import numpy as np\n",
        "import pandas as pd\n",
        "from gensim.models import Word2Vec\n",
        "from nltk.corpus import stopwords\n",
        "from nltk.tokenize import word_tokenize\n",
        "from nltk.stem import WordNetLemmatizer\n",
        "import re\n",
        "from tensorflow import keras\n",
        "from tensorflow.keras import layers\n",
        "from keras.preprocessing.text import Tokenizer\n",
        "from keras.preprocessing.sequence import pad_sequences\n",
        "from keras.layers import Dense, Embedding, LSTM, SpatialDropout1D, Dropout\n",
        "from sklearn.model_selection import train_test_split \n",
        "from keras import Sequential\n",
        "import datasets\n",
        "import os\n",
        "from threading import Thread\n",
        "import pickle\n",
        "import matplotlib.pyplot as plt\n",
        "import sklearn"
      ],
      "metadata": {
        "id": "wgb1X71N1YxD"
      },
      "execution_count": 50,
      "outputs": []
    },
    {
      "cell_type": "code",
      "source": [
        "#Downloading NLTK packages\n",
        "try:\n",
        "\tnltk.download('stopwords')\n",
        "\tnltk.download('punkt')\n",
        "\tnltk.download('wordnet')\n",
        "\tnltk.download('averaged_perceptron_tagger')\n",
        "\tnltk.download('brown')\n",
        "\tnltk.download('universal_tagset')\n",
        "except:\n",
        "\tprint(\"Unable to download some nltk packages. Please ensure you have connectivity to internet\")\n",
        "\tprint(\"Required packages include stopwords, punkt, wordnet, brown and universal_tagset\")"
      ],
      "metadata": {
        "colab": {
          "base_uri": "https://localhost:8080/"
        },
        "id": "6Z9kRmQZnMU7",
        "outputId": "0af08e5b-f4fc-4bfa-d7bc-6f4caf0434e5"
      },
      "execution_count": 5,
      "outputs": [
        {
          "output_type": "stream",
          "name": "stdout",
          "text": [
            "[nltk_data] Downloading package stopwords to /root/nltk_data...\n",
            "[nltk_data]   Package stopwords is already up-to-date!\n",
            "[nltk_data] Downloading package punkt to /root/nltk_data...\n",
            "[nltk_data]   Package punkt is already up-to-date!\n",
            "[nltk_data] Downloading package wordnet to /root/nltk_data...\n",
            "[nltk_data]   Package wordnet is already up-to-date!\n",
            "[nltk_data] Downloading package averaged_perceptron_tagger to\n",
            "[nltk_data]     /root/nltk_data...\n",
            "[nltk_data]   Package averaged_perceptron_tagger is already up-to-\n",
            "[nltk_data]       date!\n",
            "[nltk_data] Downloading package brown to /root/nltk_data...\n",
            "[nltk_data]   Package brown is already up-to-date!\n",
            "[nltk_data] Downloading package universal_tagset to /root/nltk_data...\n",
            "[nltk_data]   Package universal_tagset is already up-to-date!\n"
          ]
        }
      ]
    },
    {
      "cell_type": "code",
      "source": [
        "ds = datasets.load_dataset('amazon_polarity')"
      ],
      "metadata": {
        "id": "1GTNDI53EGjo",
        "colab": {
          "base_uri": "https://localhost:8080/",
          "height": 86,
          "referenced_widgets": [
            "d9e5c196169446409310f0f7535d1788",
            "d0edcab33ca2410db98cdb7a4e1e3128",
            "109802299c3547ddbf47a331deef5548",
            "3feee109dd844072906567630dc0e825",
            "d0414729cdfb466ba4315d297beab4fd",
            "0a049d0358ad42c8aab4ab1595efc8c4",
            "ac3515e1f3114d36bd7b6fb5d8426d3b",
            "101f9a55c1c6452cb2d0c1a0b0bbb9e5",
            "395a0e6b87de4860a3e162683f63a546",
            "37019832e4604d4596712b3bcc84492e",
            "0ec663da34814432b7a2c4dacff0773c"
          ]
        },
        "outputId": "390cc01a-5023-4985-de6d-01977b2b6ba0"
      },
      "execution_count": 6,
      "outputs": [
        {
          "output_type": "stream",
          "name": "stderr",
          "text": [
            "Reusing dataset amazon_polarity (/root/.cache/huggingface/datasets/amazon_polarity/amazon_polarity/3.0.0/56923eeb72030cb6c4ea30c8a4e1162c26b25973475ac1f44340f0ec0f2936f4)\n"
          ]
        },
        {
          "output_type": "display_data",
          "data": {
            "application/vnd.jupyter.widget-view+json": {
              "model_id": "d9e5c196169446409310f0f7535d1788",
              "version_minor": 0,
              "version_major": 2
            },
            "text/plain": [
              "  0%|          | 0/2 [00:00<?, ?it/s]"
            ]
          },
          "metadata": {}
        }
      ]
    },
    {
      "cell_type": "code",
      "source": [
        "ds_train = ds['train']\n",
        "df_train_orig = pd.DataFrame()\n",
        "for field in ds_train.features:\n",
        "  df_train_orig[field] = ds_train[field]"
      ],
      "metadata": {
        "id": "pW_fViVCI_gy"
      },
      "execution_count": 8,
      "outputs": []
    },
    {
      "cell_type": "code",
      "source": [
        "v_size = 20 # Size of the word embedding\n",
        "max_len = 150 # Max length of sentences\n",
        "preprocess_result = {}\n",
        "lem = WordNetLemmatizer()\n",
        "frac = 0.1 # Fraction of data to consider. Set 1 to consider the entire data.\n",
        "\n",
        "stop_words = stopwords.words('english')\n",
        "custom_stopwords = ['i','br','u','ive','im']\n",
        "for w in custom_stopwords:\n",
        "  stop_words.append(w)\n",
        "for i in range(len(stop_words)):\n",
        "  stop_words[i] = stop_words[i].replace(\"'\",\"\")"
      ],
      "metadata": {
        "id": "caGEuUh8Go_k"
      },
      "execution_count": 9,
      "outputs": []
    },
    {
      "cell_type": "code",
      "source": [
        "def combine_fields(f1:str, f2:str, df):\n",
        "  f1_ = list(df[f1])\n",
        "  f2_ = list(df[f2])\n",
        "  return [i +\" \"+ j for i, j in zip(f1_, f2_)]\n",
        "\n",
        "def preprocess_worker(start, stop, idx):\n",
        "  raw = list(df_train['data'])\n",
        "  raw = raw[start:stop]\n",
        "  preprocess_result[idx] = [[lem.lemmatize(w).lower() for w in prelim_preprocess_compact(line, stop_words) if w.lower() not in stop_words] for line in raw]\n",
        "  return None\n",
        "\n",
        "def preprocess_df_threads(df, thread_count = 10):\n",
        "  l = len(df)\n",
        "  samples_per_thread = l//thread_count\n",
        "  start = 0\n",
        "  workers = []\n",
        "  idx = 0\n",
        "  stop = 0\n",
        "  while(start<l):\n",
        "    stop = min(stop+samples_per_thread,l) \n",
        "    t = Thread(target = preprocess_worker, args = (start,stop,idx))\n",
        "    t.start()\n",
        "    workers.append(t)\n",
        "    start = stop\n",
        "    idx+=1\n",
        "  for worker in workers:\n",
        "    worker.join()\n",
        "  result = []\n",
        "  for idx, line in preprocess_result.items():\n",
        "    result += line\n",
        "  return result\n",
        "\n",
        "def prelim_preprocess(line, lem, stop_words):\n",
        "  line = line.replace(\"'\",\"\").replace(\"’\",\"\")\n",
        "  line = re.sub(\"[^A-Za-z']+\",' ',line)\n",
        "  token = word_tokenize(line) #Tokenize  \n",
        "  return [lem.lemmatize(w).lower() for w in token if w.lower() not in stop_words]\n",
        "\n",
        "def prelim_preprocess_compact(line, stop_words):\n",
        "  line = line.replace(\"'\",\"\").replace(\"’\",\"\")\n",
        "  line = re.sub(\"[^A-Za-z']+\",' ',line)\n",
        "  return word_tokenize(line) #Tokenize  \n",
        "\n",
        "def preprocess_df(df, stop_words):\n",
        "  raw = df['data']\n",
        "  lem = WordNetLemmatizer()\n",
        "  return [[lem.lemmatize(w).lower() for w in prelim_preprocess_compact(line, stop_words) if w.lower() not in stop_words] for line in raw]\n",
        "\n",
        "\n",
        "def preprocess(line, stop_words):\n",
        "# In preprocessing, we perform the removal of quotes, and are removing non alphabets using regular expression\n",
        "# We are also tokenizing the words and are changing it to lowercase. We are also removing stop words\n",
        "  lem = WordNetLemmatizer()\n",
        "  line = line.replace(\"'\",\"\")\n",
        "  line = line.replace(\"’\",\"\")\n",
        "  line = re.sub(\"[^A-Za-z']+\",' ',line) #Removing non-alphabets\n",
        "  token = word_tokenize(line) #Tokenize\n",
        "  clean = [lem.lemmatize(w).lower() for w in token if w.lower() not in stop_words]\n",
        "  return clean\n",
        "\n",
        "\n",
        "def preprocess_lstm(line, stop_words):\n",
        "# In preprocessing, we perform the removal of quotes, and are removing non alphabets using regular expression\n",
        "# We are also tokenizing the words and are changing it to lowercase. We are also removing stop words\n",
        "  lem = WordNetLemmatizer()\n",
        "  line = line.replace(\"'\",\"\")\n",
        "  line = line.replace(\"’\",\"\")\n",
        "  line = re.sub(\"[^A-Za-z']+\",' ',line) #Removing non-alphabets\n",
        "  token = word_tokenize(line) #Tokenize\n",
        "  clean = [lem.lemmatize(w).lower() for w in token if w.lower() not in stop_words]\n",
        "  return clean\n",
        "\n",
        "def get_accuracy(pred,true):\n",
        "# Returns the accuracy as a float value between 0 and 1.\n",
        "# Accuracy is calculated as correct/total\n",
        "  pred = np.array(pred)\n",
        "  true = np.array(true)\n",
        "  correct = np.sum((pred==true).astype(int))\n",
        "  return correct/len(pred) \n",
        "\n",
        "def vector_embedding(sentence,w2v,max_len,vec_dim):\n",
        "# This function returns the word embedding. We set a maximum length and returns only upto that length.\n",
        "# Any sequence lesser than the defined length will be padded with 0.\n",
        "  sentence_vec = [np.zeros(vec_dim)]*max_len\n",
        "  for i in range(len(sentence)):\n",
        "    idx = len(sentence)-1-i\n",
        "    word = sentence[idx]\n",
        "    try:\n",
        "      vec = w2v.wv[word]\n",
        "      sentence_vec.insert(0, vec)\n",
        "    except:\n",
        "      continue\n",
        "  return sentence_vec[:max_len],None\n",
        "\n",
        "\n",
        "def build_model(train_x, train_y, max_len = max_len, v_size = v_size, epochs_count = 40):\n",
        "    model = Sequential()\n",
        "    # Add 3 layers of LSTM\n",
        "    # First Layer\n",
        "    model.add(LSTM(units = 36, return_sequences = True, input_shape = (max_len, v_size)))\n",
        "    model.add(Dropout(0.1))\n",
        "\n",
        "    # Second Layer\n",
        "    model.add(LSTM(units = 36, return_sequences = True))\n",
        "    model.add(Dropout(0.1))\n",
        "\n",
        "    # Third Layer\n",
        "    model.add(LSTM(units = 36, return_sequences = True))\n",
        "    model.add(Dropout(0.1))\n",
        "\n",
        "    # Fourth Layer\n",
        "    model.add(LSTM(units = 36, return_sequences = False))\n",
        "    model.add(Dropout(0.1))\n",
        "\n",
        "    # Dense layer\n",
        "    model.add(Dense(units = 16, activation = 'relu'))\n",
        "    model.add(Dense(units = 1, activation = 'sigmoid'))\n",
        "\n",
        "    print(model.summary())\n",
        "    \n",
        "    # Compiling the LSTM\n",
        "    opt = keras.optimizers.Adam(learning_rate=0.0001)\n",
        "    loss = keras.losses.BinaryCrossentropy(from_logits=True)\n",
        "    model.compile(optimizer = opt, loss = loss, metrics = ['accuracy'])\n",
        "\n",
        "    # Fitting the LSTM to the Training set\n",
        "    history = model.fit(train_x, train_y, epochs = epochs_count, batch_size = 500)\n",
        "\n",
        "    return model, history"
      ],
      "metadata": {
        "id": "iA75lDDMIoE8"
      },
      "execution_count": 36,
      "outputs": []
    },
    {
      "cell_type": "code",
      "source": [
        "df_train = df_train_orig.copy()\n",
        "df_train['data'] = combine_fields('title', 'content', df_train_orig)\n",
        "df_train = df_train.drop(columns = ['content', 'title'])\n",
        "df_train = df_train.sample(frac=frac).reset_index()"
      ],
      "metadata": {
        "id": "U_8RZcyZSEk0"
      },
      "execution_count": 11,
      "outputs": []
    },
    {
      "cell_type": "code",
      "source": [
        "preprocess_result = {}\n",
        "# data_cleaned = preprocess_df_threads(df_train, 30)\n",
        "data_cleaned = preprocess_df(df_train, stop_words)\n",
        "df_train['data_cleaned'] = data_cleaned"
      ],
      "metadata": {
        "id": "s-SmoLyhOGMr"
      },
      "execution_count": 12,
      "outputs": []
    },
    {
      "cell_type": "code",
      "source": [
        "# We define a word2vec model and we train it.\n",
        "try:\n",
        "  # w2v_model = Word2Vec.load(os.path.join(os.getcwd(),\"models\",\"w2v_model.model\"))\n",
        "  w2v_model = Word2Vec.load(\"/content/drive/MyDrive/models/w2v_model.model\")\n",
        "  print(\"Model loaded successfully\")\n",
        "except:\n",
        "  print(\"Training word2vec model...\")\n",
        "  sentence_list = [sent for sent in df_train['data_cleaned']]\n",
        "  w2v_model = gensim.models.Word2Vec(sentence_list,seed=0,min_count=1,size=v_size)\n",
        "  %mkdir models\n",
        "  w2v_model.save(os.path.join(os.getcwd(),\"models\",\"w2v_model.model\"))\n",
        "vec_dim = len(w2v_model.wv['movie'])"
      ],
      "metadata": {
        "colab": {
          "base_uri": "https://localhost:8080/"
        },
        "id": "6qY8ailWmN2d",
        "outputId": "9ffa4e48-b8f6-4439-b73a-88e5dbaf0880"
      },
      "execution_count": 15,
      "outputs": [
        {
          "output_type": "stream",
          "name": "stdout",
          "text": [
            "Model loaded successfully\n"
          ]
        }
      ]
    },
    {
      "cell_type": "code",
      "source": [
        "print(\"Preparing training data...\")\n",
        "train_sentences = df_train['data_cleaned']\n",
        "train_label = df_train['label'].values\n",
        "train_label = train_label.reshape(len(train_label),1)\n",
        "train_x = []\n",
        "train_x = [vector_embedding(sent, w2v_model, max_len = max_len, vec_dim = vec_dim)[0] for sent in df_train['data_cleaned']]\n"
      ],
      "metadata": {
        "id": "XyhAzw8sAOpw",
        "colab": {
          "base_uri": "https://localhost:8080/"
        },
        "outputId": "1265749b-c7e4-4396-8e44-83db62d82364"
      },
      "execution_count": 16,
      "outputs": [
        {
          "output_type": "stream",
          "name": "stdout",
          "text": [
            "Preparing testing data...\n"
          ]
        }
      ]
    },
    {
      "cell_type": "code",
      "source": [
        "train_x = np.array(train_x)"
      ],
      "metadata": {
        "id": "VIVuDT0EA_yk"
      },
      "execution_count": 17,
      "outputs": []
    },
    {
      "cell_type": "code",
      "source": [
        "model, history = build_model(train_x,train_label, epochs_count=40)\n",
        "# Make sure you print the final training accuracy\n",
        "# Getting the final train accuracy\n",
        "predicted = model.predict(train_x)\n",
        "pred = np.round(predicted).astype(int).reshape(-1).tolist()\n",
        "acc = get_accuracy(pred,df_train['label'])\n",
        "# Printing the final train accuracy\n",
        "print(\"Train accuracy is \",acc)"
      ],
      "metadata": {
        "id": "VXRIew6oXGSI"
      },
      "execution_count": null,
      "outputs": []
    },
    {
      "cell_type": "code",
      "source": [
        "model = keras.models.load_model(os.path.join(os.getcwd(),\"models\",\"lstm_model.keras\"))"
      ],
      "metadata": {
        "id": "fZE2lBIiFdt6"
      },
      "execution_count": 22,
      "outputs": []
    },
    {
      "cell_type": "markdown",
      "source": [
        "# Model Testing"
      ],
      "metadata": {
        "id": "S0eJSEn2RhEx"
      }
    },
    {
      "cell_type": "code",
      "source": [
        "ds_test = ds['test']\n",
        "df_test = pd.DataFrame()\n",
        "for field in ds_test.features:\n",
        "  df_test[field] = ds_test[field]"
      ],
      "metadata": {
        "id": "C-SZD1LPRIXw"
      },
      "execution_count": 26,
      "outputs": []
    },
    {
      "cell_type": "code",
      "source": [
        "df_test['data'] = combine_fields('title', 'content', df_test)\n",
        "df_test = pd.concat([df_test[df_test['label']==1].sample(frac=0.4), df_test[df_test['label']==0].sample(frac=0.4)])\n",
        "df_test = df_test.sample(frac=1).reset_index()\n",
        "df_test = df_test.drop(columns = ['content', 'title'])"
      ],
      "metadata": {
        "id": "3UU8ZmapQduX"
      },
      "execution_count": 27,
      "outputs": []
    },
    {
      "cell_type": "code",
      "source": [
        "preprocess_result = {}\n",
        "# df_test['data_cleaned'] = preprocess_df_threads(df_test, 30)\n",
        "df_test['data_cleaned'] = preprocess_df(df_test, stop_words)"
      ],
      "metadata": {
        "id": "_JaE4LXgQpfG"
      },
      "execution_count": 28,
      "outputs": []
    },
    {
      "cell_type": "code",
      "source": [
        "print(\"Preparing testing data...\")\n",
        "test_sentences = df_test['data_cleaned']\n",
        "test_label = df_test['label'].values\n",
        "test_label = test_label.reshape(len(test_label),1)\n",
        "test_x = [vector_embedding(sent, w2v_model, max_len = max_len, vec_dim = vec_dim)[0] for sent in df_test['data_cleaned']]"
      ],
      "metadata": {
        "colab": {
          "base_uri": "https://localhost:8080/"
        },
        "id": "L5hTEvneQz6s",
        "outputId": "6da0fffb-12af-4b85-8eb4-39d611918b01"
      },
      "execution_count": 29,
      "outputs": [
        {
          "output_type": "stream",
          "name": "stdout",
          "text": [
            "Preparing testing data...\n"
          ]
        }
      ]
    },
    {
      "cell_type": "code",
      "source": [
        "test_x = np.array(test_x)"
      ],
      "metadata": {
        "id": "N4svoIIvQ5Ip"
      },
      "execution_count": 30,
      "outputs": []
    },
    {
      "cell_type": "code",
      "source": [
        "predicted = model.predict(test_x)\n",
        "pred = np.round(predicted).astype(int).reshape(-1).tolist()\n",
        "acc = get_accuracy(pred,df_test['label'])\n",
        "print(\"Test accuracy is \", acc)"
      ],
      "metadata": {
        "colab": {
          "base_uri": "https://localhost:8080/"
        },
        "id": "gKQc91pmQFfE",
        "outputId": "6bf455f8-b807-4ebb-e6dd-cf98c6d60ca0"
      },
      "execution_count": 31,
      "outputs": [
        {
          "output_type": "stream",
          "name": "stdout",
          "text": [
            "Test accuracy is  0.86579375\n"
          ]
        }
      ]
    },
    {
      "cell_type": "code",
      "source": [
        "def get_split(df,neg = 0.5):\n",
        "  neg = min(neg,0.5)\n",
        "  df_pos = df[df['label']==1]\n",
        "  df_neg = df[df['label']==0].sample(frac=neg/0.5)\n",
        "  df2 = pd.concat([df_pos,df_neg],axis=0,verify_integrity=True)\n",
        "  return df2.sample(frac=1).reset_index()\n",
        "\n",
        "def f1_score(pred,target):\n",
        "  "
      ],
      "metadata": {
        "id": "hlcDr4yuXqCG"
      },
      "execution_count": 47,
      "outputs": []
    },
    {
      "cell_type": "code",
      "source": [
        "negative_ratio = 0.1\n",
        "real_world_skewed_data = df_test.copy()\n",
        "real_world_skewed_data = get_split(real_world_skewed_data,negative_ratio)\n",
        "\n",
        "preprocess_result = {}\n",
        "real_world_skewed_data['data_cleaned'] = preprocess_df(real_world_skewed_data, stop_words)\n",
        "\n",
        "print(\"Preparing testing data...\")\n",
        "test_sentences = real_world_skewed_data['data_cleaned']\n",
        "test_label = real_world_skewed_data['label'].values\n",
        "test_label = test_label.reshape(len(test_label),1)\n",
        "test_x = [vector_embedding(sent, w2v_model, max_len = max_len, vec_dim = vec_dim)[0] for sent in real_world_skewed_data['data_cleaned']]\n",
        "test_x = np.array(test_x)"
      ],
      "metadata": {
        "colab": {
          "base_uri": "https://localhost:8080/"
        },
        "id": "Qn-_nN7nS9Bp",
        "outputId": "62b6bb4c-6bd7-4033-df50-5380d7da39d4"
      },
      "execution_count": 53,
      "outputs": [
        {
          "output_type": "stream",
          "name": "stdout",
          "text": [
            "Preparing testing data...\n"
          ]
        }
      ]
    },
    {
      "cell_type": "code",
      "source": [
        "predicted = model.predict(test_x)\n",
        "pred = np.round(predicted).astype(int).reshape(-1).tolist()\n",
        "acc = get_accuracy(pred,real_world_skewed_data['label'])\n",
        "print(\"Real world simulated test accuracy is \", acc)"
      ],
      "metadata": {
        "colab": {
          "base_uri": "https://localhost:8080/"
        },
        "id": "giqQeBbQTxAd",
        "outputId": "5915e9cc-cd0e-420d-d6bc-ba45429cd9a4"
      },
      "execution_count": 54,
      "outputs": [
        {
          "output_type": "stream",
          "name": "stdout",
          "text": [
            "Real world simulated test accuracy is  0.8712708333333333\n"
          ]
        }
      ]
    },
    {
      "cell_type": "code",
      "source": [
        "f1 = sklearn.metrics.f1_score(real_world_skewed_data['label'], pred)\n",
        "print(\"F1 score is \",f1)"
      ],
      "metadata": {
        "colab": {
          "base_uri": "https://localhost:8080/"
        },
        "id": "HLuWzjTlahvq",
        "outputId": "1f0250c0-2faf-4d68-da3e-ab5466f65fe3"
      },
      "execution_count": 55,
      "outputs": [
        {
          "output_type": "stream",
          "name": "stdout",
          "text": [
            "F1 score is  0.91890118255437\n"
          ]
        }
      ]
    },
    {
      "cell_type": "code",
      "source": [
        "len(real_world_skewed_data[real_world_skewed_data['label']==0])/len(real_world_skewed_data)"
      ],
      "metadata": {
        "colab": {
          "base_uri": "https://localhost:8080/"
        },
        "id": "-ZpI_LucdfvL",
        "outputId": "3dafe643-9c5e-42ea-c4ea-423c6add7f57"
      },
      "execution_count": 58,
      "outputs": [
        {
          "output_type": "execute_result",
          "data": {
            "text/plain": [
              "0.16666666666666666"
            ]
          },
          "metadata": {},
          "execution_count": 58
        }
      ]
    },
    {
      "cell_type": "code",
      "source": [
        "# 3. Save your model\n",
        "%mkdir models\n",
        "model.save(os.path.join(os.getcwd(),\"models\",\"lstm_model.keras\"))\n",
        "w2v_model.save(os.path.join(os.getcwd(),\"models\",\"w2v_model.model\"))"
      ],
      "metadata": {
        "id": "XZVdTRYgju8h"
      },
      "execution_count": null,
      "outputs": []
    },
    {
      "cell_type": "code",
      "source": [
        "plt.plot(history.history['accuracy'])\n",
        "plt.title('Model train accuracy')\n",
        "plt.ylabel('Train accuracy')\n",
        "plt.xlabel('epoch')\n",
        "plt.show()\n",
        "\n",
        "plt.plot(history.history['loss'])\n",
        "plt.title('Model Train loss')\n",
        "plt.ylabel('training loss')\n",
        "plt.xlabel('epoch')\n",
        "plt.show()"
      ],
      "metadata": {
        "colab": {
          "base_uri": "https://localhost:8080/",
          "height": 573
        },
        "id": "j-kE4_dRO18r",
        "outputId": "ad2197ca-b624-48b3-85c3-44ab10fc49e0"
      },
      "execution_count": null,
      "outputs": [
        {
          "output_type": "display_data",
          "data": {
            "image/png": "[encoded data removed]",
            "text/plain": [
              "<Figure size 432x288 with 1 Axes>"
            ]
          },
          "metadata": {
            "needs_background": "light"
          }
        },
        {
          "output_type": "display_data",
          "data": {
            "image/png": "[encoded data removed]",
            "text/plain": [
              "<Figure size 432x288 with 1 Axes>"
            ]
          },
          "metadata": {
            "needs_background": "light"
          }
        }
      ]
    },
    {
      "cell_type": "code",
      "source": [
        ""
      ],
      "metadata": {
        "id": "BooLOsVhEgVv"
      },
      "execution_count": null,
      "outputs": []
    }
  ]
}